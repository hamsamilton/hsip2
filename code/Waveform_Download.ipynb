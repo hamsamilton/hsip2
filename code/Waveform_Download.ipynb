{
 "cells": [
  {
   "cell_type": "markdown",
   "metadata": {},
   "source": [
    "# Download & Process MIMIC II Waveform Data\n",
    "\n",
    "Date: 02.01.2020\n",
    "\n",
    "Objective: Download and process the the waveform data for our HISP MIMIC Project\n",
    "\n",
    "**Reference:** https://github.com/MIT-LCP/wfdb-python/blob/master/demo.ipynb"
   ]
  },
  {
   "cell_type": "code",
   "execution_count": null,
   "metadata": {},
   "outputs": [],
   "source": [
    "from IPython.display import display\n",
    "import matplotlib.pyplot as plt\n",
    "%matplotlib inline\n",
    "import numpy as np\n",
    "import os\n",
    "import shutil\n",
    "\n",
    "import wfdb"
   ]
  },
  {
   "cell_type": "markdown",
   "metadata": {},
   "source": [
    "The **rdsamp** function exists as a simple alternative to **rdrecord** for the common purpose of extracting the physical signals and a few important descriptor fields. Thus, **rdrecord** gives several more attributes of the data\n",
    "\n"
   ]
  },
  {
   "cell_type": "code",
   "execution_count": null,
   "metadata": {},
   "outputs": [],
   "source": [
    "# Can also read the same files hosted on PhysioBank (takes long to stream the many large files)\n",
    "record = wfdb.rdsamp('s10042-2763-04-22-10-27', sampfrom=1000000, sampto=1100000, pb_dir = 'mimic2wdb/matched/s10042/')\n",
    "record"
   ]
  },
  {
   "cell_type": "code",
   "execution_count": null,
   "metadata": {},
   "outputs": [],
   "source": [
    "# Can also read the same files hosted on PhysioBank (takes long to stream the many large files)\n",
    "record = wfdb.rdrecord('s10042-2763-04-22-10-27', sampfrom=1000000, sampto=1100000, pb_dir = 'mimic2wdb/matched/s10042/')\n",
    "record"
   ]
  },
  {
   "cell_type": "markdown",
   "metadata": {},
   "source": [
    "Examine the dictionary of the attributes contained wiethin the record"
   ]
  },
  {
   "cell_type": "code",
   "execution_count": null,
   "metadata": {},
   "outputs": [],
   "source": [
    "display(record.__dict__)"
   ]
  },
  {
   "cell_type": "markdown",
   "metadata": {},
   "source": [
    "Can use the below function to plot signals. **sampfrom** and **sampto** allow us to pick the sig_len of interest, but we can run without to get the whole time series"
   ]
  },
  {
   "cell_type": "code",
   "execution_count": null,
   "metadata": {},
   "outputs": [],
   "source": [
    "# signals #samp allows us to pick the frequency!\n",
    "signals2, fields2 = wfdb.rdsamp('s10042-2763-04-22-10-27', sampfrom=1000000, sampto=1100000, pb_dir='mimic2wdb/matched/s10042/')"
   ]
  },
  {
   "cell_type": "code",
   "execution_count": null,
   "metadata": {},
   "outputs": [],
   "source": [
    "signals2.shape # confirms us how large sample length is\n",
    "fields2 # shows us the attributes of the signal"
   ]
  },
  {
   "cell_type": "code",
   "execution_count": null,
   "metadata": {},
   "outputs": [],
   "source": [
    "wfdb.plot_items(signals2, sig_name = 'II', sig_units = 'mV', title='Record s10042 from Physionet Challenge 2015') "
   ]
  },
  {
   "cell_type": "markdown",
   "metadata": {},
   "source": [
    "The below gives a nice directory of the different wave form databases"
   ]
  },
  {
   "cell_type": "code",
   "execution_count": null,
   "metadata": {},
   "outputs": [],
   "source": [
    "# Examine the different waveform databases hosted by physionet\n",
    "dbs = wfdb.get_dbs()\n",
    "display(dbs)"
   ]
  },
  {
   "cell_type": "markdown",
   "metadata": {},
   "source": [
    "The below code looks to be a way to download specific files. This may be a more conveint way of downloading our patient cohort of interest. Perhaps we could use a forloop with the files we want.\n",
    "\n",
    "**NEXT STEPS: Create a list of the subject_ids + waveform data**"
   ]
  },
  {
   "cell_type": "code",
   "execution_count": null,
   "metadata": {},
   "outputs": [],
   "source": [
    "# Demo 18 - Download specified files from a Physiobank database\n",
    "\n",
    "# Make a temporary download directory in your current working directory\n",
    "os.chdir('C:\\\\Users\\\\User\\\\Box Sync\\\\Projects\\\\Mimic_HSIP\\\\Waveform_Data')\n",
    "\n",
    "# The files to download\n",
    "file_list = ['s10042\\s10042-2763-04-20-10-41.hea']\n",
    "\n",
    "# Make a temporary download directory in your current working directory\n",
    "cwd = os.getcwd()\n",
    "dl_dir = os.path.join(cwd, 'dl_dir_chf')\n",
    "\n",
    "# Download the listed files\n",
    "wfdb.dl_files('mimic2wdb/matched', dl_dir, file_list)\n",
    "\n",
    "# Display the downloaded content in the folder\n",
    "display(os.listdir(dl_dir))\n",
    "#display(os.listdir(os.path.join(dl_dir, 'data')))\n",
    "\n",
    "# Cleanup: delete the downloaded directory\n",
    "# shutil.rmtree(dl_dir)"
   ]
  }
 ],
 "metadata": {
  "kernelspec": {
   "display_name": "Python 3",
   "language": "python",
   "name": "python3"
  },
  "language_info": {
   "codemirror_mode": {
    "name": "ipython",
    "version": 3
   },
   "file_extension": ".py",
   "mimetype": "text/x-python",
   "name": "python",
   "nbconvert_exporter": "python",
   "pygments_lexer": "ipython3",
   "version": "3.7.1"
  }
 },
 "nbformat": 4,
 "nbformat_minor": 2
}
