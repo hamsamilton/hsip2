{
 "cells": [
  {
   "cell_type": "markdown",
   "metadata": {},
   "source": [
    "# Download & Process MIMIC II Waveform Data\n",
    "\n",
    "Date: 02.01.2020\n",
    "\n",
    "Objective: Download and process the the waveform data for our HISP MIMIC Project\n",
    "\n",
    "**Reference:** https://github.com/MIT-LCP/wfdb-python/blob/master/demo.ipynb\n",
    "\n",
    "MIMICII Matched Subjects with wafeform data: https://archive.physionet.org/physiobank/database/mimic2wdb/matched/"
   ]
  },
  {
   "cell_type": "code",
   "execution_count": 3,
   "metadata": {},
   "outputs": [],
   "source": [
    "from IPython.display import display\n",
    "import matplotlib.pyplot as plt\n",
    "%matplotlib inline\n",
    "import numpy as np\n",
    "import os\n",
    "import shutil\n",
    "\n",
    "import wfdb"
   ]
  },
  {
   "cell_type": "markdown",
   "metadata": {},
   "source": [
    "The **rdsamp** function exists as a simple alternative to **rdrecord** for the common purpose of extracting the physical signals and a few important descriptor fields. Thus, **rdrecord** gives several more attributes of the data\n",
    "\n",
    "Note: We can load the whole timeseries by removing the sampfrom and sampto parameter."
   ]
  },
  {
   "cell_type": "code",
   "execution_count": 4,
   "metadata": {},
   "outputs": [
    {
     "data": {
      "text/plain": [
       "(array([[ 0.04854369,         nan, -0.09482759],\n",
       "        [ 0.17475728,         nan, -0.06034483],\n",
       "        [ 0.31067961,         nan, -0.20689655],\n",
       "        ...,\n",
       "        [-0.10679612,         nan,  0.14655172],\n",
       "        [-0.09708738,         nan,  0.12068966],\n",
       "        [-0.08737864,         nan,  0.12931034]]),\n",
       " {'fs': 125,\n",
       "  'sig_len': 100000,\n",
       "  'n_sig': 3,\n",
       "  'base_date': datetime.date(2763, 4, 22),\n",
       "  'base_time': datetime.time(12, 40, 42, 587000),\n",
       "  'units': ['mV', None, 'mV'],\n",
       "  'sig_name': ['II', 'III', 'V'],\n",
       "  'comments': ['<age>: 71 <sex>: M']})"
      ]
     },
     "execution_count": 4,
     "metadata": {},
     "output_type": "execute_result"
    }
   ],
   "source": [
    "# Can also read the same files hosted on PhysioBank (takes long to stream the many large files)\n",
    "record = wfdb.rdsamp('s10042-2763-04-22-10-27', sampfrom=1000000, sampto=1100000, pb_dir = 'mimic2wdb/matched/s10042/')\n",
    "record"
   ]
  },
  {
   "cell_type": "code",
   "execution_count": 5,
   "metadata": {},
   "outputs": [
    {
     "data": {
      "text/plain": [
       "<wfdb.io.record.Record at 0x118525e10>"
      ]
     },
     "execution_count": 5,
     "metadata": {},
     "output_type": "execute_result"
    }
   ],
   "source": [
    "# Can also read the same files hosted on PhysioBank (takes long to stream the many large files)\n",
    "record = wfdb.rdrecord('s10042-2763-04-22-10-27', sampfrom=1000000, sampto=1100000, pb_dir = 'mimic2wdb/matched/s10042/')\n",
    "record"
   ]
  },
  {
   "cell_type": "markdown",
   "metadata": {},
   "source": [
    "Examine the dictionary of the attributes contained wiethin the record"
   ]
  },
  {
   "cell_type": "code",
   "execution_count": 6,
   "metadata": {},
   "outputs": [
    {
     "data": {
      "text/plain": [
       "{'record_name': 's10042-2763-04-22-10-27',\n",
       " 'n_sig': 3,\n",
       " 'fs': 125,\n",
       " 'counter_freq': None,\n",
       " 'base_counter': None,\n",
       " 'sig_len': 100000,\n",
       " 'base_time': datetime.time(12, 40, 42, 587000),\n",
       " 'base_date': datetime.date(2763, 4, 22),\n",
       " 'comments': ['<age>: 71 <sex>: M'],\n",
       " 'sig_name': ['II', 'III', 'V'],\n",
       " 'p_signal': array([[ 0.04854369,         nan, -0.09482759],\n",
       "        [ 0.17475728,         nan, -0.06034483],\n",
       "        [ 0.31067961,         nan, -0.20689655],\n",
       "        ...,\n",
       "        [-0.10679612,         nan,  0.14655172],\n",
       "        [-0.09708738,         nan,  0.12068966],\n",
       "        [-0.08737864,         nan,  0.12931034]]),\n",
       " 'd_signal': None,\n",
       " 'e_p_signal': None,\n",
       " 'e_d_signal': None,\n",
       " 'file_name': None,\n",
       " 'fmt': ['80', None, '80'],\n",
       " 'samps_per_frame': None,\n",
       " 'skew': None,\n",
       " 'byte_offset': None,\n",
       " 'adc_gain': [103.0, None, 116.0],\n",
       " 'baseline': [0, None, 0],\n",
       " 'units': ['mV', None, 'mV'],\n",
       " 'adc_res': None,\n",
       " 'adc_zero': None,\n",
       " 'init_value': None,\n",
       " 'checksum': None,\n",
       " 'block_size': None,\n",
       " 'layout': 'variable',\n",
       " 'sig_segments': None,\n",
       " 'base_datetime': datetime.datetime(2763, 4, 22, 12, 40, 42, 587000)}"
      ]
     },
     "metadata": {},
     "output_type": "display_data"
    }
   ],
   "source": [
    "display(record.__dict__)"
   ]
  },
  {
   "cell_type": "markdown",
   "metadata": {},
   "source": [
    "Can use the below function to plot signals. **sampfrom** and **sampto** allow us to pick the sig_len of interest, but we can run without to get the whole time series"
   ]
  },
  {
   "cell_type": "code",
   "execution_count": 12,
   "metadata": {},
   "outputs": [
    {
     "data": {
      "text/plain": [
       "300000"
      ]
     },
     "execution_count": 12,
     "metadata": {},
     "output_type": "execute_result"
    }
   ],
   "source": [
    "k = record.p_signal\n",
    "k.size"
   ]
  },
  {
   "cell_type": "code",
   "execution_count": 7,
   "metadata": {},
   "outputs": [
    {
     "data": {
      "text/plain": [
       "{'fs': 125,\n",
       " 'sig_len': 100000,\n",
       " 'n_sig': 3,\n",
       " 'base_date': datetime.date(2763, 4, 22),\n",
       " 'base_time': datetime.time(12, 40, 42, 587000),\n",
       " 'units': ['mV', None, 'mV'],\n",
       " 'sig_name': ['II', 'III', 'V'],\n",
       " 'comments': ['<age>: 71 <sex>: M']}"
      ]
     },
     "execution_count": 7,
     "metadata": {},
     "output_type": "execute_result"
    }
   ],
   "source": [
    "signals2.shape # confirms us how large sample length is\n",
    "fields2 # shows us the attributes of the signal"
   ]
  },
  {
   "cell_type": "code",
   "execution_count": 8,
   "metadata": {},
   "outputs": [
    {
     "data": {
      "image/png": "[encoded data removed]",
      "text/plain": [
       "<Figure size 432x288 with 3 Axes>"
      ]
     },
     "metadata": {
      "needs_background": "light"
     },
     "output_type": "display_data"
    }
   ],
   "source": [
    "wfdb.plot_items(signals2, sig_name = 'II', sig_units = 'mV', title='Record s10042 from Physionet Challenge 2015') "
   ]
  },
  {
   "cell_type": "markdown",
   "metadata": {},
   "source": [
    "The below gives a nice directory of the different wave form databases"
   ]
  },
  {
   "cell_type": "code",
   "execution_count": 9,
   "metadata": {},
   "outputs": [
    {
     "data": {
      "text/plain": [
       "[['adfecgdb', 'Abdominal and Direct Fetal ECG Database'],\n",
       " ['aftdb', 'AF Termination Challenge Database'],\n",
       " ['ahadb', 'AHA Database [sample excluded record]'],\n",
       " ['aami-ec13', 'ANSI/AAMI EC13 Test Waveforms'],\n",
       " ['apnea-ecg', 'Apnea-ECG Database'],\n",
       " ['chfdb', 'BIDMC Congestive Heart Failure Database'],\n",
       " ['bidmc', 'BIDMC PPG and Respiration Dataset'],\n",
       " ['bpssrat', 'Blood Pressure in Salt-Sensitive Dahl Rats'],\n",
       " ['capslpdb', 'CAP Sleep Database'],\n",
       " ['crisdb', 'CAST RR Interval Sub-Study Database'],\n",
       " ['cves', 'Cerebral Vasoregulation in Elderly with Stroke'],\n",
       " ['challenge/2009/test-set-a', 'Challenge 2009 Test Set A'],\n",
       " ['challenge/2009/test-set-b', 'Challenge 2009 Test Set B'],\n",
       " ['challenge/2010/set-a', 'Challenge 2010 Training Set A'],\n",
       " ['challenge/2010/set-b', 'Challenge 2010 Test Set B'],\n",
       " ['challenge/2010/set-c', 'Challenge 2010 Test Set C'],\n",
       " ['challenge/2011/sim', 'Challenge 2011 Pilot Set'],\n",
       " ['challenge/2011/set-a', 'Challenge 2011 Training Set A'],\n",
       " ['challenge/2011/set-b', 'Challenge 2011 Test Set B'],\n",
       " ['challenge/2013/set-a', 'Challenge 2013 Training Set A'],\n",
       " ['challenge/2013/set-b', 'Challenge 2013 Test Set B'],\n",
       " ['challenge/2014/set-p2', 'Challenge 2014 Extended Training Set'],\n",
       " ['challenge/2014/set-p', 'Challenge 2014 Training Set'],\n",
       " ['challenge/2015/training', 'Challenge 2015 Training Set'],\n",
       " ['challenge/2016/training-a', 'Challenge 2016 Training Set A'],\n",
       " ['challenge/2016/training-b', 'Challenge 2016 Training Set B'],\n",
       " ['challenge/2016/training-c', 'Challenge 2016 Training Set C'],\n",
       " ['challenge/2016/training-d', 'Challenge 2016 Training Set D'],\n",
       " ['challenge/2016/training-e', 'Challenge 2016 Training Set E'],\n",
       " ['challenge/2016/training-f', 'Challenge 2016 Training Set F'],\n",
       " ['challenge/2017/training', 'Challenge 2017 Training Set'],\n",
       " ['challenge/2018/training', 'Challenge 2018 Training Set'],\n",
       " ['challenge/2018/test', 'Challenge 2018 Test Set'],\n",
       " ['charisdb', 'CHARIS database'],\n",
       " ['chbmit', 'CHB-MIT Scalp EEG Database'],\n",
       " ['cebsdb', 'Combined measurement of ECG, Breathing and Seismocardiograms'],\n",
       " ['culm', 'Complex Upper-Limb Movements'],\n",
       " ['chf2db', 'Congestive Heart Failure RR Interval Database'],\n",
       " ['ctu-uhb-ctgdb', 'CTU-CHB Intrapartum Cardiotocography Database'],\n",
       " ['cudb', 'CU Ventricular Tachyarrhythmia Database'],\n",
       " ['ecgdmmld',\n",
       "  'ECG Effects of Dofetilide, Moxifloxacin, Dofetilide+Mexiletine, Dofetilide+Lidocaine and Moxifloxacin+Diltiazem'],\n",
       " ['ecgcipa', 'CiPA ECG Validation Study'],\n",
       " ['ecgrdvq',\n",
       "  'ECG Effects of Ranolazine, Dofetilide, Verapamil, and Quinidine'],\n",
       " ['ecgiddb', 'ECG-ID Database'],\n",
       " ['eegmat', 'EEG During Mental Arithmetic Tasks'],\n",
       " ['eegmmidb', 'EEG Motor Movement/Imagery Dataset'],\n",
       " ['ltrsvp', 'EEG Signals from an RSVP Task'],\n",
       " ['erpbci', 'ERP-based Brain-Computer Interface recordings'],\n",
       " ['edb', 'European ST-T Database'],\n",
       " ['earh', 'Evoked Auditory Responses in Heading Impaired'],\n",
       " ['earndb', 'Evoked Auditory Responses in Normals'],\n",
       " ['emgdb', 'Examples of Electromyograms'],\n",
       " ['fantasia', 'Fantasia Database'],\n",
       " ['fecgsyndb', 'Fetal ECG Synthetic Database'],\n",
       " ['fpcgdb', 'Fetal PCG Database'],\n",
       " ['gaitdb', 'Gait in Aging and Disease Database'],\n",
       " ['gaitndd', 'Gait in Neurodegenerative Disease Database'],\n",
       " ['gait-maturation-db/data', 'Gait Maturation Database'],\n",
       " ['meditation/data', 'Heart Rate Oscillations during Meditation'],\n",
       " ['hbedb', 'Human Balance Evaluation Database'],\n",
       " ['ehgdb', 'Icelandic 16-electrode Electrohysterogram Database'],\n",
       " ['iafdb', 'Intracardiac Atrial Fibrillation Database'],\n",
       " ['ltafdb', 'Long Term AF Database'],\n",
       " ['ltstdb', 'Long Term ST Database'],\n",
       " ['mssvepdb', 'MAMEM SSVEP Database'],\n",
       " ['mghdb', 'MGH/MF Waveform Database'],\n",
       " ['mimicdb', 'MIMIC Database'],\n",
       " ['mimicdb/numerics', 'MIMIC Database Numerics'],\n",
       " ['mimic2cdb', 'MIMIC II Clinical Database Public Subset'],\n",
       " ['mimic2wdb/30', 'MIMIC II/III Waveform Database, part 0'],\n",
       " ['mimic2wdb/31', 'MIMIC II/III Waveform Database, part 1'],\n",
       " ['mimic2wdb/32', 'MIMIC II/III Waveform Database, part 2'],\n",
       " ['mimic2wdb/33', 'MIMIC II/III Waveform Database, part 3'],\n",
       " ['mimic2wdb/34', 'MIMIC II/III Waveform Database, part 4'],\n",
       " ['mimic2wdb/35', 'MIMIC II/III Waveform Database, part 5'],\n",
       " ['mimic2wdb/36', 'MIMIC II/III Waveform Database, part 6'],\n",
       " ['mimic2wdb/37', 'MIMIC II/III Waveform Database, part 7'],\n",
       " ['mimic2wdb/38', 'MIMIC II/III Waveform Database, part 8'],\n",
       " ['mimic2wdb/39', 'MIMIC II/III Waveform Database, part 9'],\n",
       " ['mimic2wdb/matched', 'MIMIC II Waveform Database Matched Subset'],\n",
       " ['mimic3wdb/matched', 'MIMIC III Waveform Database Matched Subset'],\n",
       " ['mitdb', 'MIT-BIH Arrhythmia Database'],\n",
       " ['pwave', 'MIT-BIH Arrhythmia Database P-Wave Annotations'],\n",
       " ['afdb', 'MIT-BIH Atrial Fibrillation Database'],\n",
       " ['cdb', 'MIT-BIH ECG Compression Test Database'],\n",
       " ['ltdb', 'MIT-BIH Long-Term ECG Database'],\n",
       " ['vfdb', 'MIT-BIH Malignant Ventricular Ectopy Database'],\n",
       " ['nstdb', 'MIT-BIH Noise Stress Test Database'],\n",
       " ['nsrdb', 'MIT-BIH Normal Sinus Rhythm Database'],\n",
       " ['excluded', '... [Recordings excluded from the NSR DB]'],\n",
       " ['slpdb', 'MIT-BIH Polysomnographic Database'],\n",
       " ['stdb', 'MIT-BIH ST Change Database'],\n",
       " ['svdb', 'MIT-BIH Supraventricular Arrhythmia Database'],\n",
       " ['mmgdb', 'MMG Database'],\n",
       " ['macecgdb', 'Motion Artifact Contaminated ECG Database'],\n",
       " ['motion-artifact', 'Motion Artifact Contaminated fNIRS and EEG Data'],\n",
       " ['noneeg', 'Non-EEG Dataset for Assessment of Neurological Status'],\n",
       " ['nifecgdb', 'Non-Invasive Fetal ECG Database'],\n",
       " ['nifeadb', 'Non-Invasive Fetal ECG Arrhythmia Database'],\n",
       " ['nsr2db', 'Normal Sinus Rhythm RR Interval Database'],\n",
       " ['ob1db', 'OB-1 Fetal ECG Database [sample record]'],\n",
       " ['afpdb', 'PAF Prediction Challenge Database'],\n",
       " ['osv', 'Pattern Analysis of Oxygen Saturation Variability'],\n",
       " ['prcp', 'Physiologic Response to Changes in Posture'],\n",
       " ['szdb', 'Post-Ictal Heart Rate Oscillations in Partial Epilepsy'],\n",
       " ['picsdb', 'Preterm Infant Cardio-Respiratory Signals Database'],\n",
       " ['ptbdb', 'PTB Diagnostic ECG Database'],\n",
       " ['qtdb', 'QT Database'],\n",
       " ['rvmh1', 'Response to Valsalva Maneuver in Humans'],\n",
       " ['sufhsdb', 'Shiraz University Fetal Heart Sounds Database'],\n",
       " ['simfpcgdb', 'Simulated Fetal Phonocardiograms'],\n",
       " ['sleepbrl', 'Sleep Bioradiolocation Database'],\n",
       " ['sleep-edfx', 'Sleep-EDF Database [Expanded]'],\n",
       " ['shhpsgdb', 'Sleep Heart Health Study PSG Database [sample record]'],\n",
       " ['shareedb',\n",
       "  'Smart Health for Assessing the Risk of Events via ECG Database'],\n",
       " ['mvtdb/data', 'Spontaneous Ventricular Tachyarrhythmia Database'],\n",
       " ['sgamp', 'Squid Giant Axon Membrane Potential'],\n",
       " ['incartdb', 'St Petersburg INCART 12-lead Arrhythmia Database'],\n",
       " ['staffiii', 'STAFF III Database'],\n",
       " ['drivedb', 'Stress Recognition in Automobile Drivers'],\n",
       " ['sddb', 'Sudden Cardiac Death Holter Database'],\n",
       " ['twadb', 'T-Wave Alternans Challenge Database'],\n",
       " ['taichidb', 'Tai Chi, Physiological Complexity, and Healthy Aging - Gait'],\n",
       " ['tpehgdb', 'Term-Preterm EHG Database'],\n",
       " ['tpehgt', 'Term-Preterm EHG DataSet with Tocogram (TPEHGT DS)'],\n",
       " ['ucddb', 'UCD Sleep Apnea Database'],\n",
       " ['unicaprop', 'UniCA ElectroTastegram Database (PROP)'],\n",
       " ['videopulse', 'Video Pulse Signals in Stationary and Motion Conditions'],\n",
       " ['voiced', 'VOice ICar fEDerico II Database'],\n",
       " ['wrist', 'Wrist PPG During Exercise'],\n",
       " ['mimic2db', 'MIMIC II Waveform DB, v2 [deprecated, use v3]'],\n",
       " ['mimic2db/numerics',\n",
       "  'MIMIC II Waveform DB, v2 Numerics [deprecated, use v3]'],\n",
       " ['sleep-edf', 'Sleep-EDF Database, v1 [deprecated, use sleep-edfx]']]"
      ]
     },
     "metadata": {},
     "output_type": "display_data"
    }
   ],
   "source": [
    "# Examine the different waveform databases hosted by physionet\n",
    "dbs = wfdb.get_dbs()\n",
    "display(dbs)"
   ]
  },
  {
   "cell_type": "markdown",
   "metadata": {},
   "source": [
    "The below code looks to be a way to download specific files. This may be a more conveint way of downloading our patient cohort of interest. Perhaps we could use a forloop with the files we want.\n",
    "\n",
    "**NEXT STEPS: Create a list of the subject_ids + waveform data**"
   ]
  },
  {
   "cell_type": "code",
   "execution_count": 11,
   "metadata": {},
   "outputs": [
    {
     "ename": "FileNotFoundError",
     "evalue": "[Errno 2] No such file or directory: 'C:\\\\Users\\\\User\\\\Box Sync\\\\Projects\\\\Mimic_HSIP\\\\Waveform_Data'",
     "output_type": "error",
     "traceback": [
      "\u001b[0;31m---------------------------------------------------------------------------\u001b[0m",
      "\u001b[0;31mFileNotFoundError\u001b[0m                         Traceback (most recent call last)",
      "\u001b[0;32m<ipython-input-11-61a54ad00f3b>\u001b[0m in \u001b[0;36m<module>\u001b[0;34m\u001b[0m\n\u001b[1;32m      2\u001b[0m \u001b[0;34m\u001b[0m\u001b[0m\n\u001b[1;32m      3\u001b[0m \u001b[0;31m# Make a temporary download directory in your current working directory\u001b[0m\u001b[0;34m\u001b[0m\u001b[0;34m\u001b[0m\u001b[0;34m\u001b[0m\u001b[0m\n\u001b[0;32m----> 4\u001b[0;31m \u001b[0mos\u001b[0m\u001b[0;34m.\u001b[0m\u001b[0mchdir\u001b[0m\u001b[0;34m(\u001b[0m\u001b[0;34m'C:\\\\Users\\\\User\\\\Box Sync\\\\Projects\\\\Mimic_HSIP\\\\Waveform_Data'\u001b[0m\u001b[0;34m)\u001b[0m\u001b[0;34m\u001b[0m\u001b[0;34m\u001b[0m\u001b[0m\n\u001b[0m\u001b[1;32m      5\u001b[0m \u001b[0;34m\u001b[0m\u001b[0m\n\u001b[1;32m      6\u001b[0m \u001b[0;31m# The files to download\u001b[0m\u001b[0;34m\u001b[0m\u001b[0;34m\u001b[0m\u001b[0;34m\u001b[0m\u001b[0m\n",
      "\u001b[0;31mFileNotFoundError\u001b[0m: [Errno 2] No such file or directory: 'C:\\\\Users\\\\User\\\\Box Sync\\\\Projects\\\\Mimic_HSIP\\\\Waveform_Data'"
     ]
    }
   ],
   "source": [
    "# Demo 18 - Download specified files from a Physiobank database\n",
    "\n",
    "# Make a temporary download directory in your current working directory\n",
    "#os.chdir('C:\\\\Users\\\\User\\\\Box Sync\\\\Projects\\\\Mimic_HSIP\\\\Waveform_Data')\n",
    "\n",
    "# The files to download\n",
    "file_list = ['s10042\\s10042-2763-04-20-10-41.hea']\n",
    "\n",
    "# Make a temporary download directory in your current working directory\n",
    "cwd = os.getcwd()\n",
    "dl_dir = os.path.join(cwd, 'dl_dir_chf')\n",
    "\n",
    "# Download the listed files\n",
    "wfdb.dl_files('mimic2wdb/matched', dl_dir, file_list)\n",
    "\n",
    "# Display the downloaded content in the folder\n",
    "display(os.listdir(dl_dir))\n",
    "#display(os.listdir(os.path.join(dl_dir, 'data')))\n",
    "\n",
    "# Cleanup: delete the downloaded directory\n",
    "# shutil.rmtree(dl_dir)"
   ]
  },
  {
   "cell_type": "code",
   "execution_count": 1,
   "metadata": {},
   "outputs": [
    {
     "ename": "NameError",
     "evalue": "name 'wfdb' is not defined",
     "output_type": "error",
     "traceback": [
      "\u001b[0;31m---------------------------------------------------------------------------\u001b[0m",
      "\u001b[0;31mNameError\u001b[0m                                 Traceback (most recent call last)",
      "\u001b[0;32m<ipython-input-1-6dca4321f178>\u001b[0m in \u001b[0;36m<module>\u001b[0;34m\u001b[0m\n\u001b[0;32m----> 1\u001b[0;31m \u001b[0mwfdb\u001b[0m\u001b[0;34m.\u001b[0m\u001b[0mdl_database\u001b[0m\u001b[0;34m(\u001b[0m\u001b[0;34m'mimic3wdb/matched'\u001b[0m\u001b[0;34m,\u001b[0m \u001b[0mos\u001b[0m\u001b[0;34m.\u001b[0m\u001b[0mgetcwd\u001b[0m\u001b[0;34m(\u001b[0m\u001b[0;34m)\u001b[0m\u001b[0;34m)\u001b[0m\u001b[0;34m\u001b[0m\u001b[0;34m\u001b[0m\u001b[0m\n\u001b[0m",
      "\u001b[0;31mNameError\u001b[0m: name 'wfdb' is not defined"
     ]
    }
   ],
   "source": [
    "wfdb.dl_database('mimic3wdb/matched', os.getcwd())"
   ]
  },
  {
   "cell_type": "code",
   "execution_count": null,
   "metadata": {},
   "outputs": [],
   "source": []
  }
 ],
 "metadata": {
  "kernelspec": {
   "display_name": "Python 3",
   "language": "python",
   "name": "python3"
  },
  "language_info": {
   "codemirror_mode": {
    "name": "ipython",
    "version": 3
   },
   "file_extension": ".py",
   "mimetype": "text/x-python",
   "name": "python",
   "nbconvert_exporter": "python",
   "pygments_lexer": "ipython3",
   "version": "3.7.4"
  }
 },
 "nbformat": 4,
 "nbformat_minor": 4
}
